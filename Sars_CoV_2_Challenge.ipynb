{
  "nbformat": 4,
  "nbformat_minor": 0,
  "metadata": {
    "colab": {
      "name": "Sars-CoV-2-Challenge.ipynb",
      "provenance": [],
      "collapsed_sections": []
    },
    "kernelspec": {
      "name": "python3",
      "display_name": "Python 3"
    }
  },
  "cells": [
    {
      "cell_type": "markdown",
      "metadata": {
        "id": "PC9RoFWnZa4e",
        "colab_type": "text"
      },
      "source": [
        "Bloc 1: Instalació de llibreries  \n",
        "Bloc 2: Importació de llibreries  \n",
        "Bloc 3: Per treballar amb fitxers des del Drive  \n",
        "Bloc 4: Definició de funcions  \n",
        "Bloc 5: Crida de funcions  \n",
        "  \n",
        "Com fer servir:  \n",
        "- Executar bloc 1 i després bloc 2  \n",
        "- Executar bloc 4  \n",
        "SI ES VOL TREBALLAR AL DRIVE:  \n",
        "+ Executar el bloc 3 i introduïr el codi de la web\n",
        "+ Canviar les variables \"csv_datab_name\" i \"filename\" a la carpeta on hi ha la base de dades  \n",
        "SI NO:  \n",
        "+ Canviar les variables \"csv_datab_name\" i \"filename\" a la carpeta on hi ha la base de dades  \n",
        "FINALMENT:\n",
        "- Executar el bloc 5  \n",
        "- Es pot treballar amb les dades fasta al bloc 6"
      ]
    },
    {
      "cell_type": "code",
      "metadata": {
        "id": "nV_rOXi0TNVq",
        "colab_type": "code",
        "outputId": "0166d89e-7905-4a27-926d-fce830229bfb",
        "colab": {
          "base_uri": "https://localhost:8080/",
          "height": 1000
        }
      },
      "source": [
        "#Bloc 1\n",
        "\n",
        "!pip3 install selenium\n",
        "!apt-get update\n",
        "!apt install chromium-chromedriver\n",
        "!cp /usr/lib/chromium-browser/chromedriver /usr/bin"
      ],
      "execution_count": 2,
      "outputs": [
        {
          "output_type": "stream",
          "text": [
            "Collecting selenium\n",
            "\u001b[?25l  Downloading https://files.pythonhosted.org/packages/80/d6/4294f0b4bce4de0abf13e17190289f9d0613b0a44e5dd6a7f5ca98459853/selenium-3.141.0-py2.py3-none-any.whl (904kB)\n",
            "\u001b[K     |████████████████████████████████| 911kB 2.8MB/s \n",
            "\u001b[?25hRequirement already satisfied: urllib3 in /usr/local/lib/python3.6/dist-packages (from selenium) (1.24.3)\n",
            "Installing collected packages: selenium\n",
            "Successfully installed selenium-3.141.0\n",
            "Get:1 https://cloud.r-project.org/bin/linux/ubuntu bionic-cran35/ InRelease [3,626 B]\n",
            "Ign:2 https://developer.download.nvidia.com/compute/cuda/repos/ubuntu1804/x86_64  InRelease\n",
            "Ign:3 https://developer.download.nvidia.com/compute/machine-learning/repos/ubuntu1804/x86_64  InRelease\n",
            "Hit:4 https://developer.download.nvidia.com/compute/cuda/repos/ubuntu1804/x86_64  Release\n",
            "Hit:5 https://developer.download.nvidia.com/compute/machine-learning/repos/ubuntu1804/x86_64  Release\n",
            "Hit:6 http://ppa.launchpad.net/graphics-drivers/ppa/ubuntu bionic InRelease\n",
            "Hit:7 http://archive.ubuntu.com/ubuntu bionic InRelease\n",
            "Get:9 http://archive.ubuntu.com/ubuntu bionic-updates InRelease [88.7 kB]\n",
            "Get:10 http://security.ubuntu.com/ubuntu bionic-security InRelease [88.7 kB]\n",
            "Get:12 http://ppa.launchpad.net/marutter/c2d4u3.5/ubuntu bionic InRelease [15.4 kB]\n",
            "Get:13 http://archive.ubuntu.com/ubuntu bionic-backports InRelease [74.6 kB]\n",
            "Get:14 http://ppa.launchpad.net/marutter/c2d4u3.5/ubuntu bionic/main Sources [1,814 kB]\n",
            "Get:15 http://security.ubuntu.com/ubuntu bionic-security/universe amd64 Packages [844 kB]\n",
            "Get:16 http://archive.ubuntu.com/ubuntu bionic-updates/universe amd64 Packages [1,376 kB]\n",
            "Get:17 http://archive.ubuntu.com/ubuntu bionic-updates/main amd64 Packages [1,205 kB]\n",
            "Get:18 http://security.ubuntu.com/ubuntu bionic-security/main amd64 Packages [908 kB]\n",
            "Get:19 http://ppa.launchpad.net/marutter/c2d4u3.5/ubuntu bionic/main amd64 Packages [875 kB]\n",
            "Fetched 7,294 kB in 6s (1,219 kB/s)\n",
            "Reading package lists... Done\n",
            "Reading package lists... Done\n",
            "Building dependency tree       \n",
            "Reading state information... Done\n",
            "The following additional packages will be installed:\n",
            "  chromium-browser chromium-browser-l10n chromium-codecs-ffmpeg-extra\n",
            "Suggested packages:\n",
            "  webaccounts-chromium-extension unity-chromium-extension adobe-flashplugin\n",
            "The following NEW packages will be installed:\n",
            "  chromium-browser chromium-browser-l10n chromium-chromedriver\n",
            "  chromium-codecs-ffmpeg-extra\n",
            "0 upgraded, 4 newly installed, 0 to remove and 32 not upgraded.\n",
            "Need to get 77.2 MB of archives.\n",
            "After this operation, 264 MB of additional disk space will be used.\n",
            "Get:1 http://archive.ubuntu.com/ubuntu bionic-updates/universe amd64 chromium-codecs-ffmpeg-extra amd64 81.0.4044.122-0ubuntu0.18.04.1 [1,095 kB]\n",
            "Get:2 http://archive.ubuntu.com/ubuntu bionic-updates/universe amd64 chromium-browser amd64 81.0.4044.122-0ubuntu0.18.04.1 [68.8 MB]\n",
            "Get:3 http://archive.ubuntu.com/ubuntu bionic-updates/universe amd64 chromium-browser-l10n all 81.0.4044.122-0ubuntu0.18.04.1 [3,230 kB]\n",
            "Get:4 http://archive.ubuntu.com/ubuntu bionic-updates/universe amd64 chromium-chromedriver amd64 81.0.4044.122-0ubuntu0.18.04.1 [4,070 kB]\n",
            "Fetched 77.2 MB in 10s (7,719 kB/s)\n",
            "Selecting previously unselected package chromium-codecs-ffmpeg-extra.\n",
            "(Reading database ... 144429 files and directories currently installed.)\n",
            "Preparing to unpack .../chromium-codecs-ffmpeg-extra_81.0.4044.122-0ubuntu0.18.04.1_amd64.deb ...\n",
            "Unpacking chromium-codecs-ffmpeg-extra (81.0.4044.122-0ubuntu0.18.04.1) ...\n",
            "Selecting previously unselected package chromium-browser.\n",
            "Preparing to unpack .../chromium-browser_81.0.4044.122-0ubuntu0.18.04.1_amd64.deb ...\n",
            "Unpacking chromium-browser (81.0.4044.122-0ubuntu0.18.04.1) ...\n",
            "Selecting previously unselected package chromium-browser-l10n.\n",
            "Preparing to unpack .../chromium-browser-l10n_81.0.4044.122-0ubuntu0.18.04.1_all.deb ...\n",
            "Unpacking chromium-browser-l10n (81.0.4044.122-0ubuntu0.18.04.1) ...\n",
            "Selecting previously unselected package chromium-chromedriver.\n",
            "Preparing to unpack .../chromium-chromedriver_81.0.4044.122-0ubuntu0.18.04.1_amd64.deb ...\n",
            "Unpacking chromium-chromedriver (81.0.4044.122-0ubuntu0.18.04.1) ...\n",
            "Setting up chromium-codecs-ffmpeg-extra (81.0.4044.122-0ubuntu0.18.04.1) ...\n",
            "Setting up chromium-browser (81.0.4044.122-0ubuntu0.18.04.1) ...\n",
            "update-alternatives: using /usr/bin/chromium-browser to provide /usr/bin/x-www-browser (x-www-browser) in auto mode\n",
            "update-alternatives: using /usr/bin/chromium-browser to provide /usr/bin/gnome-www-browser (gnome-www-browser) in auto mode\n",
            "Setting up chromium-chromedriver (81.0.4044.122-0ubuntu0.18.04.1) ...\n",
            "Setting up chromium-browser-l10n (81.0.4044.122-0ubuntu0.18.04.1) ...\n",
            "Processing triggers for hicolor-icon-theme (0.17-2) ...\n",
            "Processing triggers for mime-support (3.60ubuntu1) ...\n",
            "Processing triggers for man-db (2.8.3-2ubuntu0.1) ...\n",
            "cp: '/usr/lib/chromium-browser/chromedriver' and '/usr/bin/chromedriver' are the same file\n"
          ],
          "name": "stdout"
        }
      ]
    },
    {
      "cell_type": "code",
      "metadata": {
        "id": "QlU7UGpC3C-u",
        "colab_type": "code",
        "colab": {}
      },
      "source": [
        "#Bloc 2\n",
        "\n",
        "import csv\n",
        "import timeit\n",
        "import math\n",
        "import requests\n",
        "from time import sleep\n",
        "from bs4 import BeautifulSoup\n",
        "from selenium import webdriver"
      ],
      "execution_count": 0,
      "outputs": []
    },
    {
      "cell_type": "code",
      "metadata": {
        "id": "bU-G8JuIzA1R",
        "colab_type": "code",
        "outputId": "1ca95753-4a1d-4020-d01d-e6094aa21473",
        "colab": {
          "base_uri": "https://localhost:8080/",
          "height": 124
        }
      },
      "source": [
        "#Bloc 3\n",
        "\n",
        "from google.colab import drive\n",
        "drive.mount('/content/drive')"
      ],
      "execution_count": 0,
      "outputs": [
        {
          "output_type": "stream",
          "text": [
            "Go to this URL in a browser: https://accounts.google.com/o/oauth2/auth?client_id=947318989803-6bn6qk8qdgf4n4g3pfee6491hc0brc4i.apps.googleusercontent.com&redirect_uri=urn%3aietf%3awg%3aoauth%3a2.0%3aoob&response_type=code&scope=email%20https%3a%2f%2fwww.googleapis.com%2fauth%2fdocs.test%20https%3a%2f%2fwww.googleapis.com%2fauth%2fdrive%20https%3a%2f%2fwww.googleapis.com%2fauth%2fdrive.photos.readonly%20https%3a%2f%2fwww.googleapis.com%2fauth%2fpeopleapi.readonly\n",
            "\n",
            "Enter your authorization code:\n",
            "··········\n",
            "Mounted at /content/drive\n"
          ],
          "name": "stdout"
        }
      ]
    },
    {
      "cell_type": "code",
      "metadata": {
        "id": "qmWsFSM1w8ii",
        "colab_type": "code",
        "colab": {}
      },
      "source": [
        "#Bloc 4\n",
        "\n",
        "def get_global_data(route):\n",
        "    #Format global_data: Accession, Length, Location, Date\n",
        "    global_data = []\n",
        "    with open(route,newline=\"\") as csvfile:\n",
        "        reader = csv.reader(csvfile, delimiter=' ', quotechar='|')\n",
        "        for i, row in enumerate(reader):\n",
        "            if i > 3:\n",
        "                line = ','.join(row).split(\",\")\n",
        "                if line[2].endswith(\":\"):\n",
        "                    line[2] = line[2][:-1]\n",
        "                    line[3] = line[4]\n",
        "                    line = line[:-1]\n",
        "                if line[2].startswith(\"\\\"\"):\n",
        "                    line[2] = line[2][1:]\n",
        "                if line[2] != '':\n",
        "                    global_data.append(line)\n",
        "\n",
        "    return global_data\n",
        "\n",
        "def separate_in_countries(data,mode):\n",
        "    if mode == 1:\n",
        "        countries = []\n",
        "        for row in data:\n",
        "            if not row[2] in countries:\n",
        "                countries.append(row[2])\n",
        "        separated_data = []\n",
        "        for country in countries:\n",
        "            country_line = []\n",
        "            for row in data:\n",
        "                if row[2] == country:\n",
        "                    country_line.append(row)\n",
        "            separated_data.append(country_line)\n",
        "        return separated_data\n",
        "    else:\n",
        "        separated_data = {}\n",
        "        for row in data:\n",
        "            if row[2] in separated_data.keys():\n",
        "                separated_data[row[2]].append(row)\n",
        "            else:\n",
        "                separated_data[row[2]] = [row]\n",
        "        return [separated_data[key] for key in separated_data.keys()]\n",
        "\n",
        "def country_medians(data):\n",
        "    medians = []\n",
        "    for country_data in data:\n",
        "        country_name = country_data[0][2]\n",
        "        medians.append((country_name,country_data[math.floor(len(country_data) / 2)][1],country_data[math.floor(len(country_data) / 2)][0]))\n",
        "    return medians\n",
        "\n",
        "def get_files(country_data):\n",
        "    url = \"https://www.ncbi.nlm.nih.gov/nuccore/\" + str(country_data[2]) + \".1?report=fasta\"\n",
        "    filename = str(country_data[0]) + \".fasta\"\n",
        "\n",
        "    chrome_options = webdriver.ChromeOptions()\n",
        "    chrome_options.add_argument('--headless')\n",
        "    chrome_options.add_argument('--no-sandbox')\n",
        "    chrome_options.add_argument('--disable-dev-shm-usage')\n",
        "    driver = webdriver.Chrome('chromedriver',options=chrome_options)\n",
        "    driver.get(url)\n",
        "    sleep(0.2)\n",
        "    soup = BeautifulSoup(driver.page_source, 'lxml')\n",
        "\n",
        "    f = open(filename,\"w\")\n",
        "    f.write(\"\".join(soup.find(id=\"viewercontent1\").text.split(\"\\n\")[1:]))\n",
        "    f.close()"
      ],
      "execution_count": 0,
      "outputs": []
    },
    {
      "cell_type": "code",
      "metadata": {
        "id": "FrpoREk126OU",
        "colab_type": "code",
        "outputId": "cfb2ca97-efe5-49e7-9855-3186ff9a871e",
        "colab": {
          "base_uri": "https://localhost:8080/",
          "height": 34
        }
      },
      "source": [
        "#Bloc 5\n",
        "\n",
        "#Ruta Joel A, l'haureu de canviar si ho voleu provar\n",
        "csv_datab_route = \"/content/drive/My Drive/Uni/Practica1-Algoritmica/all_sequences.csv\"\n",
        "file_route = \"/content/drive/My Drive/Uni/Practica1-Algoritmica/time.txt\"\n",
        "f = open(file_route,\"w\")\n",
        "\n",
        "#O(N) -> N = Numero total de mostres\n",
        "my_data = get_global_data(csv_datab_route)\n",
        "f.write(\"Get global data:\\n\")\n",
        "f.write(str(timeit.timeit(\"get_global_data(csv_datab_route)\",\"from __main__ import csv_datab_route, get_global_data\",number=1)) + \"\\n\")\n",
        "\n",
        "#O(M*N) -> M = Numero total de països\n",
        "my_countries = separate_in_countries(my_data,2)\n",
        "f.write(\"Separate in countries 1:\\n\")\n",
        "f.write(str(timeit.timeit(\"separate_in_countries(my_data,1)\",\"from __main__ import separate_in_countries,my_data\",number=1)) + \"\\n\")\n",
        "f.write(\"Separate in countries 2:\\n\")\n",
        "f.write(str(timeit.timeit(\"separate_in_countries(my_data,2)\",\"from __main__ import separate_in_countries,my_data\",number=1)) + \"\\n\")\n",
        "\n",
        "#O(M)\n",
        "medians = country_medians(my_countries)\n",
        "f.write(\"Medians:\\n\")\n",
        "f.write(str(timeit.timeit(\"country_medians(my_countries)\",\"from __main__ import country_medians,my_countries\",number=1)) + \"\\n\")\n",
        "\n",
        "#O(M)\n",
        "total_timeit = 0.0\n",
        "for data in medians:\n",
        "    get_files(data)\n",
        "    total_timeit += timeit.timeit(\"get_files(data)\",\"from __main__ import get_files,data\",number=1)\n",
        "\n",
        "f.write(\"Total file scraping: \\n\")\n",
        "f.write(str(total_timeit) + \"\\n\")\n",
        "f.write(\"Average file scraping: \\n\")\n",
        "f.write(str(total_timeit/len(medians)) + \"\\n\")\n",
        "\n",
        "print(\"DONE\")\n",
        "\n",
        "f.close()"
      ],
      "execution_count": 0,
      "outputs": [
        {
          "output_type": "stream",
          "text": [
            "DONE\n"
          ],
          "name": "stdout"
        }
      ]
    },
    {
      "cell_type": "code",
      "metadata": {
        "id": "U9YgrhYZzMY3",
        "colab_type": "code",
        "colab": {
          "base_uri": "https://localhost:8080/",
          "height": 156
        },
        "outputId": "6a4c1103-e617-44f6-fcc2-32475a13d24b"
      },
      "source": [
        "#Bloc 6\n",
        "\n",
        "seq_1 = \"ACCGAAC\"\n",
        "seq_2 = \"ACCTAAC\"\n",
        "\n",
        "#Brute force\n",
        "def sequence_alignment_brute_force(sequence_1,sequence_2):\n",
        "    gap = 6\n",
        "    matriu = []\n",
        "\n",
        "    order = { 'A': 0, 'G': 1, 'C': 2, 'T': 3}\n",
        "    mismatch = [[0,2,3,4],[2,0,5,1],[3,5,0,1],[4,3,1,0]]\n",
        "\n",
        "    #Creació matriu\n",
        "    for _ in range(len(sequence_1) + 1):\n",
        "        fila = []\n",
        "        for _ in range(len(sequence_2) + 1):\n",
        "            fila.append(0)\n",
        "        matriu.append(fila)\n",
        "\n",
        "    #Sequence 1 vertical, sequence 2 horitzontal\n",
        "\n",
        "    matriu[0][0] = 0\n",
        "\n",
        "    #Omplim la matriu\n",
        "    for i in range(len(sequence_1)):\n",
        "        matriu[i+1][0] = matriu[i][0] + gap\n",
        "    for i in range(len(sequence_2)):\n",
        "        matriu[0][i+1] = matriu[0][i] + gap\n",
        "\n",
        "    for i in range(len(sequence_1)):\n",
        "        for j in range(len(sequence_2)):\n",
        "            matriu[i+1][j+1] = min(min(matriu[i+1][j] + gap,matriu[i][j+1] + gap),matriu[i][j] + mismatch[order[sequence_1[i]]][order[sequence_2[j]]])\n",
        "\n",
        "    print(\"\\n\".join([str(lin) for lin in matriu]))\n",
        "\n",
        "sequence_alignment_brute_force(seq_1,seq_2)"
      ],
      "execution_count": 10,
      "outputs": [
        {
          "output_type": "stream",
          "text": [
            "[0, 6, 12, 18, 24, 30, 36, 42]\n",
            "[6, 0, 6, 12, 18, 24, 30, 36]\n",
            "[12, 6, 0, 6, 12, 18, 24, 30]\n",
            "[18, 12, 6, 0, 6, 12, 18, 24]\n",
            "[24, 18, 12, 6, 1, 7, 13, 19]\n",
            "[30, 24, 18, 12, 7, 1, 7, 13]\n",
            "[36, 30, 24, 18, 13, 7, 1, 7]\n",
            "[42, 36, 30, 24, 19, 13, 7, 1]\n"
          ],
          "name": "stdout"
        }
      ]
    }
  ]
}