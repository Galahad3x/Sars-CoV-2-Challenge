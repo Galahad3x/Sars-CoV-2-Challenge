{
  "nbformat": 4,
  "nbformat_minor": 0,
  "metadata": {
    "colab": {
      "name": "Sars-CoV-2-Challenge.ipynb",
      "provenance": [],
      "collapsed_sections": []
    },
    "kernelspec": {
      "name": "python3",
      "display_name": "Python 3"
    }
  },
  "cells": [
    {
      "cell_type": "code",
      "metadata": {
        "id": "QlU7UGpC3C-u",
        "colab_type": "code",
        "colab": {}
      },
      "source": [
        "import csv\n",
        "import timeit\n",
        "import math"
      ],
      "execution_count": 0,
      "outputs": []
    },
    {
      "cell_type": "code",
      "metadata": {
        "id": "qmWsFSM1w8ii",
        "colab_type": "code",
        "colab": {}
      },
      "source": [
        "def get_global_data(route):\n",
        "    #Format global_data: Accession, Length, Location, Date\n",
        "    global_data = []\n",
        "    with open(route,newline=\"\") as csvfile:\n",
        "        reader = csv.reader(csvfile, delimiter=' ', quotechar='|')\n",
        "        for i, row in enumerate(reader):\n",
        "            if i > 3:\n",
        "                line = ','.join(row).split(\",\")\n",
        "                if line[2].endswith(\":\"):\n",
        "                    line[2] = line[2][:-1]\n",
        "                    line[3] = line[4]\n",
        "                    line = line[:-1]\n",
        "                if line[2].startswith(\"\\\"\"):\n",
        "                    line[2] = line[2][1:]\n",
        "                if line[2] != '':\n",
        "                    global_data.append(line)\n",
        "\n",
        "    return global_data\n",
        "\n",
        "def separate_in_countries(data,mode):\n",
        "    if mode == 1:\n",
        "        countries = []\n",
        "        for row in data:\n",
        "            if not row[2] in countries:\n",
        "                countries.append(row[2])\n",
        "        separated_data = []\n",
        "        for country in countries:\n",
        "            country_line = []\n",
        "            for row in data:\n",
        "                if row[2] == country:\n",
        "                    country_line.append(row)\n",
        "            separated_data.append(country_line)\n",
        "        return separated_data\n",
        "    else:\n",
        "        separated_data = {}\n",
        "        for row in data:\n",
        "            if row[2] in separated_data.keys():\n",
        "                separated_data[row[2]].append(row)\n",
        "            else:\n",
        "                separated_data[row[2]] = [row]\n",
        "        return [separated_data[key] for key in separated_data.keys()]\n",
        "\n",
        "def country_medians(data):\n",
        "    medians = []\n",
        "    for country_data in data:\n",
        "        country_name = country_data[0][2]\n",
        "        medians.append((country_name,country_data[math.floor(len(country_data) / 2)][1],country_data[math.floor(len(country_data) / 2)][0]))\n",
        "    return medians"
      ],
      "execution_count": 0,
      "outputs": []
    },
    {
      "cell_type": "code",
      "metadata": {
        "id": "FrpoREk126OU",
        "colab_type": "code",
        "colab": {}
      },
      "source": [
        "#Ruta Joel A, l'haureu de canviar si ho voleu provar\n",
        "csv_datab_route = \"/content/drive/My Drive/Uni/Practica1-Algoritmica/all_sequences.csv\"\n",
        "file_route = \"/content/drive/My Drive/Uni/Practica1-Algoritmica/time.txt\"\n",
        "f = open(file_route,\"w\")\n",
        "\n",
        "#O(N) -> N = Numero total de mostres\n",
        "my_data = get_global_data(csv_datab_route)\n",
        "f.write(\"Get global data:\\n\")\n",
        "f.write(str(timeit.timeit(\"get_global_data(csv_datab_route)\",\"from __main__ import csv_datab_route, get_global_data\",number=1)) + \"\\n\")\n",
        "\n",
        "#O(M*N) -> M = Numero total de països\n",
        "my_countries = separate_in_countries(my_data,2)\n",
        "f.write(\"Separate in countries 1:\\n\")\n",
        "f.write(str(timeit.timeit(\"separate_in_countries(my_data,1)\",\"from __main__ import separate_in_countries,my_data\",number=1)) + \"\\n\")\n",
        "f.write(\"Separate in countries 2:\\n\")\n",
        "f.write(str(timeit.timeit(\"separate_in_countries(my_data,2)\",\"from __main__ import separate_in_countries,my_data\",number=1)) + \"\\n\")\n",
        "\n",
        "#O(M)\n",
        "medians = country_medians(my_countries)\n",
        "f.write(\"Medians:\\n\")\n",
        "f.write(str(timeit.timeit(\"country_medians(my_countries)\",\"from __main__ import country_medians,my_countries\",number=1)) + \"\\n\")\n",
        "\n",
        "f.close()"
      ],
      "execution_count": 0,
      "outputs": []
    }
  ]
}