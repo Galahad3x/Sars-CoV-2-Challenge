{
  "nbformat": 4,
  "nbformat_minor": 0,
  "metadata": {
    "colab": {
      "name": "Sars-CoV-2-Challenge.ipynb",
      "provenance": [],
      "collapsed_sections": []
    },
    "kernelspec": {
      "name": "python3",
      "display_name": "Python 3"
    }
  },
  "cells": [
    {
      "cell_type": "markdown",
      "metadata": {
        "id": "PC9RoFWnZa4e",
        "colab_type": "text"
      },
      "source": [
        "Bloc 1: Instalació de llibreries  \n",
        "Bloc 2: Importació de llibreries  \n",
        "Bloc 3: Per treballar amb fitxers des del Drive  \n",
        "Bloc 4: Definició de funcions  \n",
        "Bloc 5: Crida de funcions  \n",
        "  \n",
        "Com fer servir:  \n",
        "- Executar bloc 1 i després bloc 2  \n",
        "- Executar bloc 4  \n",
        "SI ES VOL TREBALLAR AL DRIVE:  \n",
        "+ Executar el bloc 3 i introduïr el codi de la web\n",
        "+ Canviar les variables \"csv_datab_name\" i \"filename\" a la carpeta on hi ha la base de dades  \n",
        "SI NO:  \n",
        "+ Canviar les variables \"csv_datab_name\" i \"filename\" a la carpeta on hi ha la base de dades  \n",
        "FINALMENT:\n",
        "- Executar el bloc 5  \n",
        "- Es pot treballar amb les dades fasta al bloc 6"
      ]
    },
    {
      "cell_type": "code",
      "metadata": {
        "id": "nV_rOXi0TNVq",
        "colab_type": "code",
        "outputId": "0f14f71e-cbea-4314-cf6f-95ff544fb555",
        "colab": {
          "base_uri": "https://localhost:8080/",
          "height": 382
        }
      },
      "source": [
        "#Bloc 1\n",
        "\n",
        "!pip3 install selenium\n",
        "!apt-get update\n",
        "!apt install chromium-chromedriver\n",
        "!cp /usr/lib/chromium-browser/chromedriver /usr/bin"
      ],
      "execution_count": 15,
      "outputs": [
        {
          "output_type": "stream",
          "text": [
            "Requirement already satisfied: selenium in /usr/local/lib/python3.6/dist-packages (3.141.0)\n",
            "Requirement already satisfied: urllib3 in /usr/local/lib/python3.6/dist-packages (from selenium) (1.24.3)\n",
            "Hit:1 https://cloud.r-project.org/bin/linux/ubuntu bionic-cran35/ InRelease\n",
            "Ign:2 https://developer.download.nvidia.com/compute/cuda/repos/ubuntu1804/x86_64  InRelease\n",
            "Ign:3 https://developer.download.nvidia.com/compute/machine-learning/repos/ubuntu1804/x86_64  InRelease\n",
            "Hit:4 https://developer.download.nvidia.com/compute/cuda/repos/ubuntu1804/x86_64  Release\n",
            "Hit:5 https://developer.download.nvidia.com/compute/machine-learning/repos/ubuntu1804/x86_64  Release\n",
            "Hit:6 http://ppa.launchpad.net/graphics-drivers/ppa/ubuntu bionic InRelease\n",
            "Get:7 http://security.ubuntu.com/ubuntu bionic-security InRelease [88.7 kB]\n",
            "Hit:9 http://archive.ubuntu.com/ubuntu bionic InRelease\n",
            "Hit:11 http://ppa.launchpad.net/marutter/c2d4u3.5/ubuntu bionic InRelease\n",
            "Get:12 http://archive.ubuntu.com/ubuntu bionic-updates InRelease [88.7 kB]\n",
            "Get:13 http://archive.ubuntu.com/ubuntu bionic-backports InRelease [74.6 kB]\n",
            "Fetched 252 kB in 2s (108 kB/s)\n",
            "Reading package lists... Done\n",
            "Reading package lists... Done\n",
            "Building dependency tree       \n",
            "Reading state information... Done\n",
            "chromium-chromedriver is already the newest version (81.0.4044.122-0ubuntu0.18.04.1).\n",
            "0 upgraded, 0 newly installed, 0 to remove and 32 not upgraded.\n",
            "cp: '/usr/lib/chromium-browser/chromedriver' and '/usr/bin/chromedriver' are the same file\n"
          ],
          "name": "stdout"
        }
      ]
    },
    {
      "cell_type": "code",
      "metadata": {
        "id": "QlU7UGpC3C-u",
        "colab_type": "code",
        "colab": {}
      },
      "source": [
        "#Bloc 2\n",
        "\n",
        "import csv\n",
        "import timeit\n",
        "import math\n",
        "import requests\n",
        "from time import sleep\n",
        "from bs4 import BeautifulSoup\n",
        "from selenium import webdriver"
      ],
      "execution_count": 0,
      "outputs": []
    },
    {
      "cell_type": "code",
      "metadata": {
        "id": "bU-G8JuIzA1R",
        "colab_type": "code",
        "outputId": "1ca95753-4a1d-4020-d01d-e6094aa21473",
        "colab": {
          "base_uri": "https://localhost:8080/",
          "height": 124
        }
      },
      "source": [
        "#Bloc 3\n",
        "\n",
        "from google.colab import drive\n",
        "drive.mount('/content/drive')"
      ],
      "execution_count": 0,
      "outputs": [
        {
          "output_type": "stream",
          "text": [
            "Go to this URL in a browser: https://accounts.google.com/o/oauth2/auth?client_id=947318989803-6bn6qk8qdgf4n4g3pfee6491hc0brc4i.apps.googleusercontent.com&redirect_uri=urn%3aietf%3awg%3aoauth%3a2.0%3aoob&response_type=code&scope=email%20https%3a%2f%2fwww.googleapis.com%2fauth%2fdocs.test%20https%3a%2f%2fwww.googleapis.com%2fauth%2fdrive%20https%3a%2f%2fwww.googleapis.com%2fauth%2fdrive.photos.readonly%20https%3a%2f%2fwww.googleapis.com%2fauth%2fpeopleapi.readonly\n",
            "\n",
            "Enter your authorization code:\n",
            "··········\n",
            "Mounted at /content/drive\n"
          ],
          "name": "stdout"
        }
      ]
    },
    {
      "cell_type": "code",
      "metadata": {
        "id": "qmWsFSM1w8ii",
        "colab_type": "code",
        "colab": {}
      },
      "source": [
        "#Bloc 4\n",
        "\n",
        "def get_global_data(route):\n",
        "    #Format global_data: Accession, Length, Location, Date\n",
        "    global_data = []\n",
        "    with open(route,newline=\"\") as csvfile:\n",
        "        reader = csv.reader(csvfile, delimiter=' ', quotechar='|')\n",
        "        for i, row in enumerate(reader):\n",
        "            if i > 3:\n",
        "                line = ','.join(row).split(\",\")\n",
        "                if line[2].endswith(\":\"):\n",
        "                    line[2] = line[2][:-1]\n",
        "                    line[3] = line[4]\n",
        "                    line = line[:-1]\n",
        "                if line[2].startswith(\"\\\"\"):\n",
        "                    line[2] = line[2][1:]\n",
        "                if line[2] != '':\n",
        "                    global_data.append(line)\n",
        "\n",
        "    return global_data\n",
        "\n",
        "def separate_in_countries(data,mode):\n",
        "    if mode == 1:\n",
        "        countries = []\n",
        "        for row in data:\n",
        "            if not row[2] in countries:\n",
        "                countries.append(row[2])\n",
        "        separated_data = []\n",
        "        for country in countries:\n",
        "            country_line = []\n",
        "            for row in data:\n",
        "                if row[2] == country:\n",
        "                    country_line.append(row)\n",
        "            separated_data.append(country_line)\n",
        "        return separated_data\n",
        "    else:\n",
        "        separated_data = {}\n",
        "        for row in data:\n",
        "            if row[2] in separated_data.keys():\n",
        "                separated_data[row[2]].append(row)\n",
        "            else:\n",
        "                separated_data[row[2]] = [row]\n",
        "        return [separated_data[key] for key in separated_data.keys()]\n",
        "\n",
        "def country_medians(data):\n",
        "    medians = []\n",
        "    for country_data in data:\n",
        "        country_name = country_data[0][2]\n",
        "        medians.append((country_name,country_data[math.floor(len(country_data) / 2)][1],country_data[math.floor(len(country_data) / 2)][0]))\n",
        "    return medians\n",
        "\n",
        "def get_files(country_data):\n",
        "    url = \"https://www.ncbi.nlm.nih.gov/nuccore/\" + str(country_data[2]) + \".1?report=fasta\"\n",
        "    filename = str(country_data[0]) + \".fasta\"\n",
        "\n",
        "    chrome_options = webdriver.ChromeOptions()\n",
        "    chrome_options.add_argument('--headless')\n",
        "    chrome_options.add_argument('--no-sandbox')\n",
        "    chrome_options.add_argument('--disable-dev-shm-usage')\n",
        "    driver = webdriver.Chrome('chromedriver',options=chrome_options)\n",
        "    driver.get(url)\n",
        "    sleep(0.2)\n",
        "    soup = BeautifulSoup(driver.page_source, 'lxml')\n",
        "\n",
        "    f = open(filename,\"w\")\n",
        "    f.write(\"\".join(soup.find(id=\"viewercontent1\").text.split(\"\\n\")[1:]))\n",
        "    f.close()"
      ],
      "execution_count": 0,
      "outputs": []
    },
    {
      "cell_type": "code",
      "metadata": {
        "id": "FrpoREk126OU",
        "colab_type": "code",
        "outputId": "cfb2ca97-efe5-49e7-9855-3186ff9a871e",
        "colab": {
          "base_uri": "https://localhost:8080/",
          "height": 34
        }
      },
      "source": [
        "#Bloc 5\n",
        "\n",
        "#Ruta Joel A, l'haureu de canviar si ho voleu provar\n",
        "csv_datab_route = \"/content/drive/My Drive/Uni/Practica1-Algoritmica/all_sequences.csv\"\n",
        "file_route = \"/content/drive/My Drive/Uni/Practica1-Algoritmica/time.txt\"\n",
        "f = open(file_route,\"w\")\n",
        "\n",
        "#O(N) -> N = Numero total de mostres\n",
        "my_data = get_global_data(csv_datab_route)\n",
        "f.write(\"Get global data:\\n\")\n",
        "f.write(str(timeit.timeit(\"get_global_data(csv_datab_route)\",\"from __main__ import csv_datab_route, get_global_data\",number=1)) + \"\\n\")\n",
        "\n",
        "#O(M*N) -> M = Numero total de països\n",
        "my_countries = separate_in_countries(my_data,2)\n",
        "f.write(\"Separate in countries 1:\\n\")\n",
        "f.write(str(timeit.timeit(\"separate_in_countries(my_data,1)\",\"from __main__ import separate_in_countries,my_data\",number=1)) + \"\\n\")\n",
        "f.write(\"Separate in countries 2:\\n\")\n",
        "f.write(str(timeit.timeit(\"separate_in_countries(my_data,2)\",\"from __main__ import separate_in_countries,my_data\",number=1)) + \"\\n\")\n",
        "\n",
        "#O(M)\n",
        "medians = country_medians(my_countries)\n",
        "f.write(\"Medians:\\n\")\n",
        "f.write(str(timeit.timeit(\"country_medians(my_countries)\",\"from __main__ import country_medians,my_countries\",number=1)) + \"\\n\")\n",
        "\n",
        "#O(M)\n",
        "total_timeit = 0.0\n",
        "for data in medians:\n",
        "    get_files(data)\n",
        "    total_timeit += timeit.timeit(\"get_files(data)\",\"from __main__ import get_files,data\",number=1)\n",
        "\n",
        "f.write(\"Total file scraping: \\n\")\n",
        "f.write(str(total_timeit) + \"\\n\")\n",
        "f.write(\"Average file scraping: \\n\")\n",
        "f.write(str(total_timeit/len(medians)) + \"\\n\")\n",
        "\n",
        "print(\"DONE\")\n",
        "\n",
        "f.close()"
      ],
      "execution_count": 0,
      "outputs": [
        {
          "output_type": "stream",
          "text": [
            "DONE\n"
          ],
          "name": "stdout"
        }
      ]
    },
    {
      "cell_type": "code",
      "metadata": {
        "id": "U9YgrhYZzMY3",
        "colab_type": "code",
        "outputId": "710ecc64-465a-416d-e608-c736ae38e390",
        "colab": {
          "base_uri": "https://localhost:8080/",
          "height": 34
        }
      },
      "source": [
        "#Bloc 6\n",
        "\n",
        "#Brute force\n",
        "def sequence_alignment_brute(sequence_1,sequence_2):\n",
        "    #Trobar tots els camins i calcular el seu cost \n",
        "    # INEFICIENT !!!\n",
        "    pass\n",
        "\n",
        "#Retornarà tupla de strings del estil \"NNNGNGNN\" on G es Gap i N Nogap\n",
        "def find_path(mat,punt,endpoint,results):\n",
        "    if punt == endpoint:\n",
        "        return results\n",
        "    else:\n",
        "        try:\n",
        "            min_next = min(min(mat[punt[0]+1][punt[1]],mat[punt[0]][punt[1]+1]),mat[punt[0]+1][punt[1]+1])\n",
        "        except IndexError:\n",
        "            try:\n",
        "                min_next = mat[punt[0]+1][punt[1]]\n",
        "            except IndexError:\n",
        "                return find_path(mat,(punt[0],punt[1]+1),endpoint,(results[0]+\"G\",results[1]+\"N\"))\n",
        "        if min_next == mat[punt[0]+1][punt[1]+1]:\n",
        "            #Gap horitzontal\n",
        "            return find_path(mat,(punt[0]+1,punt[1]+1),endpoint,(results[0]+\"N\",results[1]+\"N\")) \n",
        "        elif min_next == mat[punt[0]][punt[1]+1]:\n",
        "            #Gap vertical\n",
        "            return find_path(mat,(punt[0],punt[1]+1),endpoint,(results[0]+\"G\",results[1]+\"N\"))\n",
        "        else:\n",
        "            return find_path(mat,(punt[0]+1,punt[1]),endpoint,(results[0]+\"N\",results[1]+\"G\"))\n",
        "            \n",
        "\n",
        "#Dynamic programming, Needleman-Wunsch method\n",
        "def sequence_alignment_dynamic(sequence_1,sequence_2):\n",
        "    gap = 4\n",
        "    matriu = []\n",
        "\n",
        "    order = { 'A': 0, 'G': 1, 'C': 2, 'T': 3}\n",
        "    mismatch = [[0,2,3,4],[2,0,5,1],[3,5,0,1],[4,3,1,0]]\n",
        "    mismatch = [[0,3,3,3],[3,0,3,3],[3,3,0,3],[3,3,3,0]]\n",
        "\n",
        "    #Creació matriu\n",
        "    mat_traceback = []\n",
        "    for _ in range(len(sequence_1) + 1):\n",
        "        fila = []\n",
        "        for _ in range(len(sequence_2) + 1):\n",
        "            fila.append(0)\n",
        "        matriu.append(fila)\n",
        "        mat_traceback.append(fila[:])\n",
        "\n",
        "    #Sequence 1 vertical, sequence 2 horitzontal\n",
        "\n",
        "    matriu[0][0] = 0\n",
        "    mat_traceback[0][0] = \"e\"\n",
        "\n",
        "    #Omplim la matriu\n",
        "    for i in range(len(sequence_1)):\n",
        "        matriu[i+1][0] = matriu[i][0] + gap\n",
        "        mat_traceback[i+1][0] = \"u\"\n",
        "    for i in range(len(sequence_2)):\n",
        "        matriu[0][i+1] = matriu[0][i] + gap\n",
        "        mat_traceback[0][i+1] = \"l\"\n",
        "\n",
        "    for i in range(len(sequence_1)):\n",
        "        for j in range(len(sequence_2)):\n",
        "            current_min = min(min(matriu[i+1][j] + gap,matriu[i][j+1] + gap),matriu[i][j] + mismatch[order[sequence_1[i]]][order[sequence_2[j]]])\n",
        "            matriu[i+1][j+1] = current_min\n",
        "            if current_min == matriu[i][j] + mismatch[order[sequence_1[i]]][order[sequence_2[j]]]:\n",
        "                mat_traceback[i+1][j+1] = \"d\"\n",
        "            elif current_min == matriu[i+1][j] + gap:\n",
        "                mat_traceback[i+1][j+1] = \"l\"\n",
        "            else:\n",
        "                mat_traceback[i+1][j+1] = \"u\"\n",
        "\n",
        "    res = find_path(matriu,(0,0),(len(sequence_1),len(sequence_2)),(\"\",\"\"))\n",
        "\n",
        "    #print(\"\\n\".join([str(lin) for lin in matriu]))\n",
        "    #print(\"\\n\".join([str(lin) for lin in mat_traceback]))\n",
        "\n",
        "    my_x = len(sequence_1)\n",
        "    my_y = len(sequence_2)\n",
        "    \n",
        "    wres_1 = \"\"\n",
        "    wres_2 = \"\"\n",
        "\n",
        "    while mat_traceback[my_x][my_y] != \"e\":\n",
        "        if mat_traceback[my_x][my_y] == \"d\":\n",
        "            wres_1 = sequence_1[my_x-1] + wres_1\n",
        "            wres_2 = sequence_2[my_y-1] + wres_2\n",
        "            my_x -= 1\n",
        "            my_y -= 1\n",
        "        elif mat_traceback[my_x-1][my_y-1] == \"l\":\n",
        "            wres_2 = \"-\" + wres_2\n",
        "            wres_1 = sequence_1[my_x-1] + wres_1\n",
        "            my_x -= 1\n",
        "        else:\n",
        "            wres_1 = \"-\" + wres_1\n",
        "            wres_2 = sequence_2[my_y-1] + wres_2\n",
        "            my_y -= 1\n",
        "\n",
        "    return wres_1,wres_2,matriu[len(sequence_1)][len(sequence_2)]\n",
        "\n",
        "seq_1 = \"ACGGCTC\"\n",
        "seq_2 = \"ATGGCCTC\"\n",
        "\n",
        "print(sequence_alignment_dynamic(seq_1,seq_2))"
      ],
      "execution_count": 66,
      "outputs": [
        {
          "output_type": "stream",
          "text": [
            "('ACGG-CTC', 'ATGGCCTC', 7)\n"
          ],
          "name": "stdout"
        }
      ]
    },
    {
      "cell_type": "code",
      "metadata": {
        "id": "0dslHUHtdiw5",
        "colab_type": "code",
        "colab": {}
      },
      "source": [
        "    res_1 = \"\"\n",
        "    i = 0\n",
        "    for char in res[0]:\n",
        "        if char == \"N\":\n",
        "            res_1 += sequence_1[i]\n",
        "            i += 1\n",
        "        else:\n",
        "            res_1 += \"-\"\n",
        "    \n",
        "    res_2 = \"\"\n",
        "    i = 0\n",
        "    for char in res[1]:\n",
        "        if char == \"N\":\n",
        "            res_2 += sequence_2[i]\n",
        "            i += 1\n",
        "        else:\n",
        "            res_2 += \"-\""
      ],
      "execution_count": 0,
      "outputs": []
    }
  ]
}